{
 "cells": [
  {
   "cell_type": "code",
   "execution_count": 3,
   "metadata": {
    "collapsed": true,
    "ExecuteTime": {
     "end_time": "2023-07-19T19:06:46.608538Z",
     "start_time": "2023-07-19T19:06:46.079232500Z"
    }
   },
   "outputs": [],
   "source": [
    "from langchain.document_loaders import PyPDFLoader\n",
    "\n",
    "loader = PyPDFLoader(\"data/im_qm.pdf\")\n",
    "pages = loader.load_and_split()"
   ]
  },
  {
   "cell_type": "code",
   "execution_count": 4,
   "outputs": [
    {
     "data": {
      "text/plain": "Document(page_content='1  Industrial Manufacturing, Inc.  \\n TABLE OF CONTENTS  \\n \\nSECTION  NUMBER  REV  DATE  \\nCOVER PAGE     \\nTABLE OF CONTENTS     \\nGLOSSARY OF TERMS     \\nSTATEMENT OF AUTHORITY AND RESPONSIBILITY     \\nMANUAL CONTROL     \\nSCOPE OF WORK / ORGANIZATION     \\nDRAWINGS, DESIGN CALCULATIONS AND SPECIFICATIONS     \\nMATERIAL CONTROL     \\nMETHODS OF CARRYING OUT REPAIRS AND ALTERATIONS     \\nCORRECTION OF NONCONFORMATIES     \\nWELDING CONTROL     \\nNONDESTRUCTIVE EXAMINATIONS     \\nHEAT TREATMENT     \\nCALIBRATION     \\nREPAIR INSPECTOR     \\nRECORDS RETENTION     \\nEXHIBIT INDEX     \\n \\n \\n \\n \\nAPPROVED BY: ___________________________________________________  \\n       Quality Control Manager    Date  \\n \\n \\nACCEPTED BY: ____________________________________________________  \\n       Repair Inspector     Date', metadata={'source': 'data/im_qm.pdf', 'page': 0})"
     },
     "execution_count": 4,
     "metadata": {},
     "output_type": "execute_result"
    }
   ],
   "source": [
    "pages[0]"
   ],
   "metadata": {
    "collapsed": false,
    "ExecuteTime": {
     "end_time": "2023-07-19T19:06:57.271281Z",
     "start_time": "2023-07-19T19:06:57.265279600Z"
    }
   }
  },
  {
   "cell_type": "code",
   "execution_count": 9,
   "outputs": [
    {
     "name": "stdout",
     "output_type": "stream",
     "text": [
      "0: 1  Industrial Manufacturing, Inc.  \n",
      " TABLE OF CONTENTS  \n",
      " \n",
      "SECTION  NUMBER  REV  DATE  \n",
      "COVER PAGE     \n",
      "TABLE OF CONTENTS     \n",
      "GLOSSARY OF TERMS     \n",
      "STATEMENT OF AUTHORITY AND RESPONSIBILITY     \n",
      "MANUAL CONTROL     \n",
      "SCOPE OF WORK / ORGANIZATION     \n",
      "DRAWINGS, DESIGN CALCULATIONS AND SPECIFICATIONS     \n",
      "MATERIAL CONTROL     \n",
      "METHODS OF CARRYING OUT REPAIRS AND ALTERATIONS     \n",
      "CORRECTION OF NONCONFORMATIES     \n",
      "WELDING CONTROL     \n",
      "NONDESTRUCTIVE EXAMINATIONS     \n",
      "HEAT TREATMENT     \n",
      "CALIBRATION\n",
      "27: 28  Industrial Manufacturing, Inc.  \n",
      " EXHIBIT INDEX  \n",
      "EXHIBIT NUMBER REV DATE  \n",
      "LIST OF MANUAL HOLDERS 0 11/14/2021  \n",
      "TRAVELER 2 0 11/14/2021  \n",
      "SUPPLEMENT AL TRAVELER 2A 0 11/14/2021  \n",
      "BILL OF MATERIAL 3 0 11/14/2021  \n",
      "PURCHASE ORDER 4 0 11/14/2021  \n",
      "RECEIVING INSPECTION REPORT 5 0 11/14/2021  \n",
      "MATERIAL TRACEABILITY LOG SA 0 11/14/2021  \n",
      "NONCONFORMANCEREPORT 6 0 11/14/2021  \n",
      "WELDER CONTINUITY LOG 7 0 11/14/2021  \n",
      "CALIBRATION LOG 8 0 11/14/2021  \n",
      "CERTIFIED ENERGY, INC.  \n",
      "LIST OF MANUAL HOLDERS ED\n"
     ]
    }
   ],
   "source": [
    "from langchain.vectorstores import FAISS\n",
    "from langchain.embeddings.openai import OpenAIEmbeddings\n",
    "\n",
    "faiss_index = FAISS.from_documents(pages, OpenAIEmbeddings())\n",
    "docs = faiss_index.similarity_search(\"List the table of contents\", k=2)\n",
    "for doc in docs:\n",
    "    print(str(doc.metadata[\"page\"]) + \":\", doc.page_content[:500])"
   ],
   "metadata": {
    "collapsed": false,
    "ExecuteTime": {
     "end_time": "2023-07-19T19:11:17.936345700Z",
     "start_time": "2023-07-19T19:11:16.971473Z"
    }
   }
  },
  {
   "cell_type": "code",
   "execution_count": null,
   "outputs": [],
   "source": [],
   "metadata": {
    "collapsed": false
   }
  }
 ],
 "metadata": {
  "kernelspec": {
   "display_name": "Python 3",
   "language": "python",
   "name": "python3"
  },
  "language_info": {
   "codemirror_mode": {
    "name": "ipython",
    "version": 2
   },
   "file_extension": ".py",
   "mimetype": "text/x-python",
   "name": "python",
   "nbconvert_exporter": "python",
   "pygments_lexer": "ipython2",
   "version": "2.7.6"
  }
 },
 "nbformat": 4,
 "nbformat_minor": 0
}
